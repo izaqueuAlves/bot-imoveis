{
 "cells": [
  {
   "cell_type": "markdown",
   "metadata": {
    "colab_type": "text",
    "id": "kO9wt2g3okLS"
   },
   "source": [
    "# Analisando o bot\n",
    "\n",
    "Este jupyter-notebook vai auxiliar na análise de detecção de intenções da Taís."
   ]
  },
  {
   "cell_type": "markdown",
   "metadata": {},
   "source": [
    "## Instalação\n",
    "\n",
    "### Configurando jupyter"
   ]
  },
  {
   "cell_type": "code",
   "execution_count": 1,
   "metadata": {
    "scrolled": true
   },
   "outputs": [],
   "source": [
    "%matplotlib inline\n",
    "\n",
    "import logging, io, json, warnings\n",
    "logging.basicConfig(level=\"INFO\")\n",
    "warnings.filterwarnings('ignore')\n",
    "\n",
    "def pprint(o):\n",
    "    # small helper to make dict dumps a bit prettier\n",
    "    print(json.dumps(o, indent=2))"
   ]
  },
  {
   "cell_type": "markdown",
   "metadata": {},
   "source": [
    "### Listando versões"
   ]
  },
  {
   "cell_type": "code",
   "execution_count": 2,
   "metadata": {
    "scrolled": true
   },
   "outputs": [
    {
     "name": "stdout",
     "output_type": "stream",
     "text": [
      "rasa_nlu: 0.13.7\n"
     ]
    }
   ],
   "source": [
    "import rasa_nlu\n",
    "\n",
    "print(\"rasa_nlu: {}\".format(rasa_nlu.__version__))"
   ]
  },
  {
   "cell_type": "markdown",
   "metadata": {
    "colab_type": "text",
    "id": "1xeXgpdwzOAl"
   },
   "source": [
    "### Treinando o modelo do Rasa NLU"
   ]
  },
  {
   "cell_type": "markdown",
   "metadata": {},
   "source": [
    "Na celula abaixo todas as intents na pasta `../data/intents/` serão utilizadas para gerar a matrix de confuzão para de avaliação do bot.\n",
    "\n",
    "Ela irá treinar o modelo e executar a avaliação que pode ser verificada na saída da célula abaixo."
   ]
  },
  {
   "cell_type": "code",
   "execution_count": 3,
   "metadata": {
    "colab": {
     "autoexec": {
      "startup": false,
      "wait_interval": 0
     },
     "base_uri": "https://localhost:8080/",
     "height": 377
    },
    "colab_type": "code",
    "executionInfo": {
     "elapsed": 2821,
     "status": "ok",
     "timestamp": 1521380062879,
     "user": {
      "displayName": "Alexander Weidauer",
      "photoUrl": "//lh6.googleusercontent.com/-j4xnI5_PFWA/AAAAAAAAAAI/AAAAAAAAAAo/wPT2w5Bl3xg/s50-c-k-no/photo.jpg",
      "userId": "100444450157165144272"
     },
     "user_tz": -60
    },
    "id": "qHsAH49OePcM",
    "outputId": "f840c42d-acf2-4fbf-b439-e5a239ffb32b",
    "scrolled": false
   },
   "outputs": [
    {
     "name": "stderr",
     "output_type": "stream",
     "text": [
      "INFO:rasa_nlu.training_data.loading:Training data format of ../../bot/data/intents/aleatorio.md is md\n",
      "INFO:rasa_nlu.training_data.training_data:Training data stats: \n",
      "\t- intent examples: 204 (25 distinct intents)\n",
      "\t- Found intents: 'sad', 'hobby', 'sons', 'sign', 'religion', 'where_u_liv', 'team', 'genre', 'sport', 'me', 'relationship', 'where_r_u_from', 'how_am_i', 'languages', 'color', 'license', 'story', 'bff', 'movie', 'food', 'towel', 'joke', 'playlist', 'star_wars', 'laugh'\n",
      "\t- entity examples: 177 (23 distinct entities)\n",
      "\t- found entities: 'sons', 'genre', 'me', 'live', 'where', 'languages', 'license', 'how', 'starwars', 'food', 'towel', 'joke', 'sad', 'hobby', 'sign', 'religion', 'sport', 'relationship', 'color', 'story', 'bff', 'movie', 'playlist'\n",
      "\n",
      "INFO:rasa_nlu.training_data.loading:Training data format of ../../bot/data/intents/geral.md is md\n",
      "INFO:rasa_nlu.training_data.training_data:Training data stats: \n",
      "\t- intent examples: 85 (7 distinct intents)\n",
      "\t- Found intents: 'cumprimentar', 'elogios', 'diga_mais', 'tudo_bem', 'out_of_scope', 'negar', 'despedir'\n",
      "\t- entity examples: 0 (0 distinct entities)\n",
      "\t- found entities: \n",
      "\n",
      "INFO:rasa_nlu.training_data.loading:Training data format of ../../bot/data/intents/actions.md is md\n",
      "INFO:rasa_nlu.training_data.training_data:Training data stats: \n",
      "\t- intent examples: 6 (1 distinct intents)\n",
      "\t- Found intents: 'action_test'\n",
      "\t- entity examples: 0 (0 distinct entities)\n",
      "\t- found entities: \n",
      "\n",
      "INFO:rasa_nlu.training_data.training_data:Training data stats: \n",
      "\t- intent examples: 295 (33 distinct intents)\n",
      "\t- Found intents: 'sons', 'diga_mais', 'where_u_liv', 'genre', 'me', 'out_of_scope', 'languages', 'action_test', 'elogios', 'license', 'food', 'towel', 'joke', 'tudo_bem', 'laugh', 'negar', 'sad', 'hobby', 'sign', 'religion', 'team', 'sport', 'relationship', 'despedir', 'where_r_u_from', 'how_am_i', 'cumprimentar', 'color', 'story', 'bff', 'movie', 'playlist', 'star_wars'\n",
      "\t- entity examples: 177 (23 distinct entities)\n",
      "\t- found entities: 'sons', 'genre', 'me', 'live', 'where', 'languages', 'license', 'how', 'starwars', 'food', 'towel', 'joke', 'sad', 'hobby', 'sign', 'religion', 'sport', 'relationship', 'color', 'story', 'bff', 'movie', 'playlist'\n",
      "\n",
      "INFO:rasa_nlu.model:Starting to train component tokenizer_whitespace\n",
      "INFO:rasa_nlu.model:Finished training component.\n",
      "INFO:rasa_nlu.model:Starting to train component ner_crf\n",
      "INFO:rasa_nlu.model:Finished training component.\n",
      "INFO:rasa_nlu.model:Starting to train component ner_synonyms\n",
      "INFO:rasa_nlu.model:Finished training component.\n",
      "INFO:rasa_nlu.model:Starting to train component intent_featurizer_count_vectors\n",
      "INFO:rasa_nlu.model:Finished training component.\n",
      "INFO:rasa_nlu.model:Starting to train component intent_classifier_tensorflow_embedding\n",
      "INFO:rasa_nlu.classifiers.embedding_intent_classifier:Accuracy is updated every 10 epochs\n",
      "Epochs: 100%|██████████| 300/300 [00:08<00:00, 39.37it/s, loss=0.105, acc=0.993]\n",
      "INFO:rasa_nlu.classifiers.embedding_intent_classifier:Finished training embedding policy, loss=0.105, train accuracy=0.993\n",
      "INFO:rasa_nlu.model:Finished training component.\n",
      "INFO:rasa_nlu.model:Successfully saved model into '/work/notebooks/intents/models/nlu/default/current'\n"
     ]
    }
   ],
   "source": [
    "import os\n",
    "\n",
    "from rasa_nlu.training_data import load_data\n",
    "from rasa_nlu.model import Trainer\n",
    "from rasa_nlu import config\n",
    "\n",
    "\n",
    "intents_directory = '../../bot/data/intents/'\n",
    "\n",
    "intents = {}\n",
    "\n",
    "for intent_file in os.listdir(intents_directory):\n",
    "    intent_file_path = os.path.join(intents_directory, intent_file)\n",
    "\n",
    "    intents[intent_file] = {}\n",
    "\n",
    "    intent_list = []\n",
    "    intent_name = None\n",
    "\n",
    "    with open(intent_file_path) as f:\n",
    "        lines = f.readlines()\n",
    "\n",
    "        for line in lines:\n",
    "            line = line.strip()\n",
    "\n",
    "            if line.startswith('##'):\n",
    "                if intent_name is not None:\n",
    "                    intents[intent_file][intent_name] = intent_list\n",
    "                intent_name = line.replace('## intent:', '') \n",
    "                intent_list = []\n",
    "\n",
    "            elif line.startswith('- '):\n",
    "                intent_list.append(line.replace('- ', ''))\n",
    "\n",
    "\n",
    "# loading the nlu training samples\n",
    "training_data = load_data(intents_directory)\n",
    "\n",
    "# trainer to educate our pipeline\n",
    "trainer = Trainer(config.load(\"../../bot/nlu_config.yml\"))\n",
    "\n",
    "# train the model!\n",
    "interpreter = trainer.train(training_data)\n",
    "\n",
    "# store it for future use\n",
    "model_directory = trainer.persist(\"./models/nlu\", fixed_model_name=\"current\")"
   ]
  },
  {
   "cell_type": "code",
   "execution_count": 4,
   "metadata": {},
   "outputs": [
    {
     "name": "stderr",
     "output_type": "stream",
     "text": [
      "INFO:tensorflow:Restoring parameters from /work/notebooks/intents/./models/nlu/default/current/intent_classifier_tensorflow_embedding.ckpt\n",
      "INFO:rasa_nlu.training_data.loading:Training data format of ../../bot/data/intents/aleatorio.md is md\n",
      "INFO:rasa_nlu.training_data.training_data:Training data stats: \n",
      "\t- intent examples: 204 (25 distinct intents)\n",
      "\t- Found intents: 'sad', 'hobby', 'sons', 'sign', 'religion', 'where_u_liv', 'team', 'genre', 'sport', 'me', 'relationship', 'where_r_u_from', 'how_am_i', 'languages', 'color', 'license', 'story', 'bff', 'movie', 'food', 'towel', 'joke', 'playlist', 'star_wars', 'laugh'\n",
      "\t- entity examples: 177 (23 distinct entities)\n",
      "\t- found entities: 'sons', 'genre', 'me', 'live', 'where', 'languages', 'license', 'how', 'starwars', 'food', 'towel', 'joke', 'sad', 'hobby', 'sign', 'religion', 'sport', 'relationship', 'color', 'story', 'bff', 'movie', 'playlist'\n",
      "\n",
      "INFO:rasa_nlu.training_data.loading:Training data format of ../../bot/data/intents/geral.md is md\n",
      "INFO:rasa_nlu.training_data.training_data:Training data stats: \n",
      "\t- intent examples: 85 (7 distinct intents)\n",
      "\t- Found intents: 'cumprimentar', 'elogios', 'diga_mais', 'tudo_bem', 'out_of_scope', 'negar', 'despedir'\n",
      "\t- entity examples: 0 (0 distinct entities)\n",
      "\t- found entities: \n",
      "\n",
      "INFO:rasa_nlu.training_data.loading:Training data format of ../../bot/data/intents/actions.md is md\n",
      "INFO:rasa_nlu.training_data.training_data:Training data stats: \n",
      "\t- intent examples: 6 (1 distinct intents)\n",
      "\t- Found intents: 'action_test'\n",
      "\t- entity examples: 0 (0 distinct entities)\n",
      "\t- found entities: \n",
      "\n",
      "INFO:rasa_nlu.training_data.training_data:Training data stats: \n",
      "\t- intent examples: 295 (33 distinct intents)\n",
      "\t- Found intents: 'sons', 'diga_mais', 'where_u_liv', 'genre', 'me', 'out_of_scope', 'languages', 'action_test', 'elogios', 'license', 'food', 'towel', 'joke', 'tudo_bem', 'laugh', 'negar', 'sad', 'hobby', 'sign', 'religion', 'team', 'sport', 'relationship', 'despedir', 'where_r_u_from', 'how_am_i', 'cumprimentar', 'color', 'story', 'bff', 'movie', 'playlist', 'star_wars'\n",
      "\t- entity examples: 177 (23 distinct entities)\n",
      "\t- found entities: 'sons', 'genre', 'me', 'live', 'where', 'languages', 'license', 'how', 'starwars', 'food', 'towel', 'joke', 'sad', 'hobby', 'sign', 'religion', 'sport', 'relationship', 'color', 'story', 'bff', 'movie', 'playlist'\n",
      "\n",
      "INFO:rasa_nlu.evaluate:Intent evaluation results:\n",
      "INFO:rasa_nlu.evaluate:Intent Evaluation: Only considering those 295 examples that have a defined intent out of 295 examples\n",
      "INFO:rasa_nlu.evaluate:F1-Score:  0.9916093949992254\n",
      "INFO:rasa_nlu.evaluate:Precision: 0.9943502824858759\n",
      "INFO:rasa_nlu.evaluate:Accuracy:  0.9898305084745763\n",
      "INFO:rasa_nlu.evaluate:Classification report: \n",
      "                precision    recall  f1-score   support\n",
      "\n",
      "                     0.00      0.00      0.00         0\n",
      "   action_test       1.00      1.00      1.00         6\n",
      "           bff       1.00      1.00      1.00        11\n",
      "         color       1.00      1.00      1.00         6\n",
      "  cumprimentar       1.00      0.91      0.95        22\n",
      "      despedir       1.00      1.00      1.00        16\n",
      "     diga_mais       1.00      1.00      1.00         9\n",
      "       elogios       1.00      1.00      1.00         4\n",
      "          food       1.00      1.00      1.00         8\n",
      "         genre       1.00      1.00      1.00         8\n",
      "         hobby       1.00      1.00      1.00         7\n",
      "      how_am_i       1.00      1.00      1.00         8\n",
      "          joke       1.00      1.00      1.00         7\n",
      "     languages       1.00      0.93      0.96        14\n",
      "         laugh       1.00      1.00      1.00        13\n",
      "       license       1.00      1.00      1.00        11\n",
      "            me       1.00      1.00      1.00         7\n",
      "         movie       1.00      1.00      1.00         4\n",
      "         negar       1.00      1.00      1.00        19\n",
      "  out_of_scope       1.00      1.00      1.00         5\n",
      "      playlist       1.00      1.00      1.00         8\n",
      "  relationship       1.00      1.00      1.00        10\n",
      "      religion       1.00      1.00      1.00        16\n",
      "           sad       1.00      1.00      1.00         7\n",
      "          sign       1.00      1.00      1.00         3\n",
      "          sons       1.00      1.00      1.00        11\n",
      "         sport       1.00      1.00      1.00         6\n",
      "     star_wars       1.00      1.00      1.00        10\n",
      "         story       1.00      1.00      1.00         6\n",
      "          team       1.00      1.00      1.00         7\n",
      "         towel       1.00      1.00      1.00         4\n",
      "      tudo_bem       0.83      1.00      0.91        10\n",
      "where_r_u_from       1.00      1.00      1.00         4\n",
      "   where_u_liv       1.00      1.00      1.00         8\n",
      "\n",
      "   avg / total       0.99      0.99      0.99       295\n",
      "\n",
      "INFO:rasa_nlu.evaluate:There were some nlu intent classification errors. Use `--verbose` to show them in the log.\n",
      "INFO:rasa_nlu.evaluate:Model prediction errors saved to errors.json.\n",
      "INFO:rasa_nlu.evaluate:Confusion matrix, without normalization: \n",
      "[[ 0  0  0 ...  0  0  0]\n",
      " [ 0  6  0 ...  0  0  0]\n",
      " [ 0  0 11 ...  0  0  0]\n",
      " ...\n",
      " [ 0  0  0 ... 10  0  0]\n",
      " [ 0  0  0 ...  0  4  0]\n",
      " [ 0  0  0 ...  0  0  8]]\n"
     ]
    },
    {
     "data": {
      "image/png": "[encoded data removed]",
      "text/plain": [
       "<Figure size 432x288 with 2 Axes>"
      ]
     },
     "metadata": {
      "needs_background": "light"
     },
     "output_type": "display_data"
    },
    {
     "data": {
      "image/png": "[encoded data removed]",
      "text/plain": [
       "<Figure size 432x288 with 1 Axes>"
      ]
     },
     "metadata": {
      "needs_background": "light"
     },
     "output_type": "display_data"
    },
    {
     "name": "stderr",
     "output_type": "stream",
     "text": [
      "INFO:rasa_nlu.evaluate:Entity evaluation results:\n",
      "INFO:rasa_nlu.evaluate:Evaluation for entity extractor: ner_crf \n",
      "INFO:rasa_nlu.evaluate:F1-Score:  0.9988336217674256\n",
      "INFO:rasa_nlu.evaluate:Precision: 0.9988781331028522\n",
      "INFO:rasa_nlu.evaluate:Accuracy:  0.998876404494382\n",
      "INFO:rasa_nlu.evaluate:Classification report: \n",
      "              precision    recall  f1-score   support\n",
      "\n",
      "         bff       1.00      1.00      1.00        17\n",
      "       color       1.00      1.00      1.00        13\n",
      "        food       1.00      1.00      1.00        17\n",
      "       genre       1.00      1.00      1.00        15\n",
      "       hobby       1.00      1.00      1.00        11\n",
      "         how       1.00      1.00      1.00        24\n",
      "        joke       1.00      1.00      1.00         7\n",
      "   languages       1.00      1.00      1.00        14\n",
      "     license       1.00      1.00      1.00        14\n",
      "        live       1.00      1.00      1.00        13\n",
      "          me       1.00      0.86      0.92         7\n",
      "       movie       1.00      1.00      1.00         4\n",
      "   no_entity       1.00      1.00      1.00       649\n",
      "    playlist       1.00      1.00      1.00         7\n",
      "relationship       1.00      1.00      1.00         9\n",
      "    religion       1.00      1.00      1.00        16\n",
      "         sad       1.00      1.00      1.00         7\n",
      "        sign       1.00      1.00      1.00         3\n",
      "        sons       1.00      1.00      1.00        11\n",
      "       sport       1.00      1.00      1.00         6\n",
      "    starwars       1.00      1.00      1.00        13\n",
      "       story       1.00      1.00      1.00         6\n",
      "       towel       1.00      1.00      1.00         4\n",
      "       where       1.00      1.00      1.00         3\n",
      "\n",
      " avg / total       1.00      1.00      1.00       890\n",
      "\n"
     ]
    }
   ],
   "source": [
    "from rasa_nlu.evaluate import run_evaluation\n",
    "run_evaluation('../../bot/data/intents/', model_directory)"
   ]
  },
  {
   "cell_type": "markdown",
   "metadata": {},
   "source": [
    "### Lista de Problemas\n",
    "\n",
    "O arquivo `erros,json` mostra os erros encontrados após executar o comando `rasa_nlu.evaluate.run_evaluation`.\n",
    "\n",
    "Normalmente os erros mostrados são textos repetidos nos exemplos de diferrentes `intents`.\n",
    "\n",
    "Caso o arquivo não seja gerado significa que não foram encontrados erros."
   ]
  },
  {
   "cell_type": "code",
   "execution_count": 5,
   "metadata": {},
   "outputs": [
    {
     "name": "stdout",
     "output_type": "stream",
     "text": [
      "{\r\n",
      "    \"intent_errors\": [\r\n",
      "        {\r\n",
      "            \"text\": \"e o c#\",\r\n",
      "            \"intent\": \"languages\",\r\n",
      "            \"intent_prediction\": {\r\n",
      "                \"name\": \"\",\r\n",
      "                \"confidence\": 0.0\r\n",
      "            }\r\n",
      "        },\r\n",
      "        {\r\n",
      "            \"text\": \"como vai\",\r\n",
      "            \"intent\": \"cumprimentar\",\r\n",
      "            \"intent_prediction\": {\r\n",
      "                \"name\": \"tudo_bem\",\r\n",
      "                \"confidence\": 0.7729661464691162\r\n",
      "            }\r\n",
      "        },\r\n",
      "        {\r\n",
      "            \"text\": \"tudo bom\",\r\n",
      "            \"intent\": \"cumprimentar\",\r\n",
      "            \"intent_prediction\": {\r\n",
      "                \"name\": \"tudo_bem\",\r\n",
      "                \"confidence\": 0.7458528280258179\r\n",
      "            }\r\n",
      "        }\r\n",
      "    ]\r\n",
      "}"
     ]
    }
   ],
   "source": [
    "%cat errors.json"
   ]
  },
  {
   "cell_type": "markdown",
   "metadata": {
    "colab_type": "text",
    "id": "1xeXgpdwzOAl"
   },
   "source": [
    "### Avaliação do modelo de NLU treinado\n",
    "\n",
    "Caso queira testar mensagens específicas mande a mensagem na célula seguinte:"
   ]
  },
  {
   "cell_type": "code",
   "execution_count": 6,
   "metadata": {},
   "outputs": [
    {
     "name": "stdout",
     "output_type": "stream",
     "text": [
      "{\n",
      "  \"intent\": {\n",
      "    \"name\": \"food\",\n",
      "    \"confidence\": 0.625346839427948\n",
      "  },\n",
      "  \"entities\": [],\n",
      "  \"intent_ranking\": [\n",
      "    {\n",
      "      \"name\": \"food\",\n",
      "      \"confidence\": 0.625346839427948\n",
      "    },\n",
      "    {\n",
      "      \"name\": \"languages\",\n",
      "      \"confidence\": 0.4245864152908325\n",
      "    },\n",
      "    {\n",
      "      \"name\": \"movie\",\n",
      "      \"confidence\": 0.34271764755249023\n",
      "    },\n",
      "    {\n",
      "      \"name\": \"me\",\n",
      "      \"confidence\": 0.2999870181083679\n",
      "    },\n",
      "    {\n",
      "      \"name\": \"negar\",\n",
      "      \"confidence\": 0.2958596348762512\n",
      "    },\n",
      "    {\n",
      "      \"name\": \"diga_mais\",\n",
      "      \"confidence\": 0.20137815177440643\n",
      "    },\n",
      "    {\n",
      "      \"name\": \"where_u_liv\",\n",
      "      \"confidence\": 0.17397743463516235\n",
      "    },\n",
      "    {\n",
      "      \"name\": \"color\",\n",
      "      \"confidence\": 0.16902688145637512\n",
      "    },\n",
      "    {\n",
      "      \"name\": \"bff\",\n",
      "      \"confidence\": 0.15016068518161774\n",
      "    },\n",
      "    {\n",
      "      \"name\": \"laugh\",\n",
      "      \"confidence\": 0.11761566996574402\n",
      "    }\n",
      "  ],\n",
      "  \"text\": \"O que \\u00e9 um bot?\"\n",
      "}\n"
     ]
    }
   ],
   "source": [
    "pprint(interpreter.parse('O que é um bot?'))"
   ]
  },
  {
   "cell_type": "code",
   "execution_count": null,
   "metadata": {},
   "outputs": [],
   "source": []
  }
 ],
 "metadata": {
  "colab": {
   "collapsed_sections": [
    "y4miuS-TqYcn",
    "BBF6Nqi9scQE",
    "Fs3nOUzBsqrG",
    "5MnGuFRpzzBh"
   ],
   "default_view": {},
   "name": "Building a Simple Bot with Rasa Stack - Tutorial",
   "provenance": [
    {
     "file_id": "1GutDkDXmfU-nRzNH7Pxxx8YpdvLUw9LO",
     "timestamp": 1521183725373
    }
   ],
   "toc_visible": true,
   "version": "0.3.2",
   "views": {}
  },
  "kernelspec": {
   "display_name": "Python 3",
   "language": "python",
   "name": "python3"
  },
  "language_info": {
   "codemirror_mode": {
    "name": "ipython",
    "version": 3
   },
   "file_extension": ".py",
   "mimetype": "text/x-python",
   "name": "python",
   "nbconvert_exporter": "python",
   "pygments_lexer": "ipython3",
   "version": "3.6.8"
  }
 },
 "nbformat": 4,
 "nbformat_minor": 1
}
