{
 "cells": [
  {
   "cell_type": "markdown",
   "metadata": {
    "colab_type": "text",
    "id": "kO9wt2g3okLS"
   },
   "source": [
    "# Analisando o bot\n",
    "\n",
    "Este jupyter-notebook vai auxiliar na análise de detecção de intenções da Taís."
   ]
  },
  {
   "cell_type": "markdown",
   "metadata": {},
   "source": [
    "## Instalação\n",
    "\n",
    "### Configurando jupyter"
   ]
  },
  {
   "cell_type": "code",
   "execution_count": 1,
   "metadata": {
    "scrolled": true
   },
   "outputs": [],
   "source": [
    "%matplotlib inline\n",
    "\n",
    "import logging, io, json, warnings\n",
    "logging.basicConfig(level=\"INFO\")\n",
    "warnings.filterwarnings('ignore')\n",
    "\n",
    "def pprint(o):\n",
    "    # small helper to make dict dumps a bit prettier\n",
    "    print(json.dumps(o, indent=2))"
   ]
  },
  {
   "cell_type": "markdown",
   "metadata": {},
   "source": [
    "### Listando versões"
   ]
  },
  {
   "cell_type": "code",
   "execution_count": 2,
   "metadata": {
    "scrolled": true
   },
   "outputs": [
    {
     "name": "stdout",
     "output_type": "stream",
     "text": [
      "rasa_nlu: 0.13.7\n"
     ]
    }
   ],
   "source": [
    "import rasa_nlu\n",
    "\n",
    "print(\"rasa_nlu: {}\".format(rasa_nlu.__version__))"
   ]
  },
  {
   "cell_type": "markdown",
   "metadata": {
    "colab_type": "text",
    "id": "1xeXgpdwzOAl"
   },
   "source": [
    "### Treinando o modelo do Rasa NLU"
   ]
  },
  {
   "cell_type": "markdown",
   "metadata": {},
   "source": [
    "Na celula abaixo todas as intents na pasta `../data/intents/` serão utilizadas para gerar a matrix de confuzão para de avaliação do bot.\n",
    "\n",
    "Ela irá treinar o modelo e executar a avaliação que pode ser verificada na saída da célula abaixo."
   ]
  },
  {
   "cell_type": "code",
   "execution_count": 3,
   "metadata": {
    "colab": {
     "autoexec": {
      "startup": false,
      "wait_interval": 0
     },
     "base_uri": "https://localhost:8080/",
     "height": 377
    },
    "colab_type": "code",
    "executionInfo": {
     "elapsed": 2821,
     "status": "ok",
     "timestamp": 1521380062879,
     "user": {
      "displayName": "Alexander Weidauer",
      "photoUrl": "//lh6.googleusercontent.com/-j4xnI5_PFWA/AAAAAAAAAAI/AAAAAAAAAAo/wPT2w5Bl3xg/s50-c-k-no/photo.jpg",
      "userId": "100444450157165144272"
     },
     "user_tz": -60
    },
    "id": "qHsAH49OePcM",
    "outputId": "f840c42d-acf2-4fbf-b439-e5a239ffb32b",
    "scrolled": false
   },
   "outputs": [
    {
     "name": "stderr",
     "output_type": "stream",
     "text": [
      "INFO:rasa_nlu.training_data.loading:Training data format of ../../bot/data/intents/random.md is md\n",
      "INFO:rasa_nlu.training_data.training_data:Training data stats: \n",
      "\t- intent examples: 237 (30 distinct intents)\n",
      "\t- Found intents: 'me', 'religion', 'its_ok', 'playlist', 'where_u_liv', 'license', 'weather', 'towel', 'laugh', 'genre', 'book', 'sons', 'relationship', 'name', 'sport', 'color', 'food', 'story', 'how_am_i', 'languages', 'sad', 'movie', 'team', 'star_wars', 'where_r_u_from', 'joke', 'bff', 'sign', 'creators', 'hobby'\n",
      "\t- entity examples: 208 (28 distinct entities)\n",
      "\t- found entities: 'religion', 'how', 'genre', 'book', 'relationship', 'name', 'ok', 'story', 'sad', 'movie', 'where', 'weather', 'bff', 'creators', 'hobby', 'me', 'playlist', 'license', 'towel', 'sons', 'sport', 'color', 'food', 'starwars', 'languages', 'joke', 'sign', 'live'\n",
      "\n",
      "INFO:rasa_nlu.training_data.loading:Training data format of ../../bot/data/intents/lappis.md is md\n",
      "INFO:rasa_nlu.training_data.training_data:Training data stats: \n",
      "\t- intent examples: 169 (14 distinct intents)\n",
      "\t- Found intents: 'salic_api', 'meu_signo', 'software_livre', 'quem_eh_lappisudo', 'promova_cultura', 'como_contratar', 'pessoa_mais_cool', 'chatbot_tais', 'quais_tecnologias', 'o_que_eh_lappis', 'quais_projetos', 'zoacao_java', 'empurrando_juntos', 'salic_ml'\n",
      "\t- entity examples: 0 (0 distinct entities)\n",
      "\t- found entities: \n",
      "\n",
      "INFO:rasa_nlu.training_data.loading:Training data format of ../../bot/data/intents/general.md is md\n",
      "INFO:rasa_nlu.training_data.training_data:Training data stats: \n",
      "\t- intent examples: 125 (10 distinct intents)\n",
      "\t- Found intents: 'despedir', 'tudo_bem', 'negar', 'erro_resposta_utter', 'diga_mais', 'quem_eh_voce', 'cumprimentar', 'out_of_scope', 'elogios', 'afirmar'\n",
      "\t- entity examples: 0 (0 distinct entities)\n",
      "\t- found entities: \n",
      "\n",
      "INFO:rasa_nlu.training_data.training_data:Training data stats: \n",
      "\t- intent examples: 531 (54 distinct intents)\n",
      "\t- Found intents: 'software_livre', 'religion', 'its_ok', 'where_u_liv', 'quais_tecnologias', 'cumprimentar', 'genre', 'book', 'relationship', 'name', 'salic_api', 'meu_signo', 'story', 'negar', 'out_of_scope', 'sad', 'movie', 'chatbot_tais', 'diga_mais', 'where_r_u_from', 'weather', 'bff', 'empurrando_juntos', 'creators', 'hobby', 'salic_ml', 'me', 'despedir', 'quem_eh_lappisudo', 'como_contratar', 'playlist', 'pessoa_mais_cool', 'license', 'towel', 'quem_eh_voce', 'laugh', 'elogios', 'sons', 'zoacao_java', 'afirmar', 'sport', 'color', 'food', 'tudo_bem', 'promova_cultura', 'how_am_i', 'languages', 'erro_resposta_utter', 'team', 'star_wars', 'o_que_eh_lappis', 'quais_projetos', 'joke', 'sign'\n",
      "\t- entity examples: 208 (28 distinct entities)\n",
      "\t- found entities: 'religion', 'how', 'genre', 'book', 'relationship', 'name', 'ok', 'story', 'sad', 'movie', 'where', 'weather', 'bff', 'creators', 'hobby', 'me', 'playlist', 'license', 'towel', 'sons', 'sport', 'color', 'food', 'starwars', 'languages', 'joke', 'sign', 'live'\n",
      "\n",
      "INFO:rasa_nlu.model:Starting to train component tokenizer_whitespace\n",
      "INFO:rasa_nlu.model:Finished training component.\n",
      "INFO:rasa_nlu.model:Starting to train component ner_crf\n",
      "INFO:rasa_nlu.model:Finished training component.\n",
      "INFO:rasa_nlu.model:Starting to train component ner_synonyms\n",
      "INFO:rasa_nlu.model:Finished training component.\n",
      "INFO:rasa_nlu.model:Starting to train component intent_featurizer_count_vectors\n",
      "INFO:rasa_nlu.model:Finished training component.\n",
      "INFO:rasa_nlu.model:Starting to train component intent_classifier_tensorflow_embedding\n",
      "INFO:rasa_nlu.classifiers.embedding_intent_classifier:Accuracy is updated every 10 epochs\n",
      "Epochs: 100%|██████████| 300/300 [00:20<00:00, 14.71it/s, loss=0.143, acc=0.976]\n",
      "INFO:rasa_nlu.classifiers.embedding_intent_classifier:Finished training embedding policy, loss=0.143, train accuracy=0.976\n",
      "INFO:rasa_nlu.model:Finished training component.\n",
      "INFO:rasa_nlu.model:Successfully saved model into '/work/notebooks/intents/models/nlu/default/current'\n"
     ]
    }
   ],
   "source": [
    "import os\n",
    "\n",
    "from rasa_nlu.training_data import load_data\n",
    "from rasa_nlu.model import Trainer\n",
    "from rasa_nlu import config\n",
    "\n",
    "\n",
    "intents_directory = '../../bot/data/intents/'\n",
    "\n",
    "intents = {}\n",
    "\n",
    "for intent_file in os.listdir(intents_directory):\n",
    "    intent_file_path = os.path.join(intents_directory, intent_file)\n",
    "\n",
    "    intents[intent_file] = {}\n",
    "\n",
    "    intent_list = []\n",
    "    intent_name = None\n",
    "\n",
    "    with open(intent_file_path) as f:\n",
    "        lines = f.readlines()\n",
    "\n",
    "        for line in lines:\n",
    "            line = line.strip()\n",
    "\n",
    "            if line.startswith('##'):\n",
    "                if intent_name is not None:\n",
    "                    intents[intent_file][intent_name] = intent_list\n",
    "                intent_name = line.replace('## intent:', '') \n",
    "                intent_list = []\n",
    "\n",
    "            elif line.startswith('- '):\n",
    "                intent_list.append(line.replace('- ', ''))\n",
    "\n",
    "\n",
    "# loading the nlu training samples\n",
    "training_data = load_data(intents_directory)\n",
    "\n",
    "# trainer to educate our pipeline\n",
    "trainer = Trainer(config.load(\"../../bot/nlu_config.yml\"))\n",
    "\n",
    "# train the model!\n",
    "interpreter = trainer.train(training_data)\n",
    "\n",
    "# store it for future use\n",
    "model_directory = trainer.persist(\"./models/nlu\", fixed_model_name=\"current\")"
   ]
  },
  {
   "cell_type": "code",
   "execution_count": 4,
   "metadata": {},
   "outputs": [
    {
     "name": "stderr",
     "output_type": "stream",
     "text": [
      "INFO:tensorflow:Restoring parameters from /work/notebooks/intents/./models/nlu/default/current/intent_classifier_tensorflow_embedding.ckpt\n",
      "INFO:rasa_nlu.training_data.loading:Training data format of ../../bot/data/intents/random.md is md\n",
      "INFO:rasa_nlu.training_data.training_data:Training data stats: \n",
      "\t- intent examples: 237 (30 distinct intents)\n",
      "\t- Found intents: 'me', 'religion', 'its_ok', 'playlist', 'where_u_liv', 'license', 'weather', 'towel', 'laugh', 'genre', 'book', 'sons', 'relationship', 'name', 'sport', 'color', 'food', 'story', 'how_am_i', 'languages', 'sad', 'movie', 'team', 'star_wars', 'where_r_u_from', 'joke', 'bff', 'sign', 'creators', 'hobby'\n",
      "\t- entity examples: 208 (28 distinct entities)\n",
      "\t- found entities: 'religion', 'how', 'genre', 'book', 'relationship', 'name', 'ok', 'story', 'sad', 'movie', 'where', 'weather', 'bff', 'creators', 'hobby', 'me', 'playlist', 'license', 'towel', 'sons', 'sport', 'color', 'food', 'starwars', 'languages', 'joke', 'sign', 'live'\n",
      "\n",
      "INFO:rasa_nlu.training_data.loading:Training data format of ../../bot/data/intents/lappis.md is md\n",
      "INFO:rasa_nlu.training_data.training_data:Training data stats: \n",
      "\t- intent examples: 169 (14 distinct intents)\n",
      "\t- Found intents: 'salic_api', 'meu_signo', 'software_livre', 'quem_eh_lappisudo', 'promova_cultura', 'como_contratar', 'pessoa_mais_cool', 'chatbot_tais', 'quais_tecnologias', 'o_que_eh_lappis', 'quais_projetos', 'zoacao_java', 'empurrando_juntos', 'salic_ml'\n",
      "\t- entity examples: 0 (0 distinct entities)\n",
      "\t- found entities: \n",
      "\n",
      "INFO:rasa_nlu.training_data.loading:Training data format of ../../bot/data/intents/general.md is md\n",
      "INFO:rasa_nlu.training_data.training_data:Training data stats: \n",
      "\t- intent examples: 125 (10 distinct intents)\n",
      "\t- Found intents: 'despedir', 'tudo_bem', 'negar', 'erro_resposta_utter', 'diga_mais', 'quem_eh_voce', 'cumprimentar', 'out_of_scope', 'elogios', 'afirmar'\n",
      "\t- entity examples: 0 (0 distinct entities)\n",
      "\t- found entities: \n",
      "\n",
      "INFO:rasa_nlu.training_data.training_data:Training data stats: \n",
      "\t- intent examples: 531 (54 distinct intents)\n",
      "\t- Found intents: 'software_livre', 'religion', 'its_ok', 'where_u_liv', 'quais_tecnologias', 'cumprimentar', 'genre', 'book', 'relationship', 'name', 'salic_api', 'meu_signo', 'story', 'negar', 'out_of_scope', 'sad', 'movie', 'chatbot_tais', 'diga_mais', 'where_r_u_from', 'weather', 'bff', 'empurrando_juntos', 'creators', 'hobby', 'salic_ml', 'me', 'despedir', 'quem_eh_lappisudo', 'como_contratar', 'playlist', 'pessoa_mais_cool', 'license', 'towel', 'quem_eh_voce', 'laugh', 'elogios', 'sons', 'zoacao_java', 'afirmar', 'sport', 'color', 'food', 'tudo_bem', 'promova_cultura', 'how_am_i', 'languages', 'erro_resposta_utter', 'team', 'star_wars', 'o_que_eh_lappis', 'quais_projetos', 'joke', 'sign'\n",
      "\t- entity examples: 208 (28 distinct entities)\n",
      "\t- found entities: 'religion', 'how', 'genre', 'book', 'relationship', 'name', 'ok', 'story', 'sad', 'movie', 'where', 'weather', 'bff', 'creators', 'hobby', 'me', 'playlist', 'license', 'towel', 'sons', 'sport', 'color', 'food', 'starwars', 'languages', 'joke', 'sign', 'live'\n",
      "\n",
      "INFO:rasa_nlu.evaluate:Intent evaluation results:\n",
      "INFO:rasa_nlu.evaluate:Intent Evaluation: Only considering those 531 examples that have a defined intent out of 531 examples\n",
      "INFO:rasa_nlu.evaluate:F1-Score:  0.9747239685377217\n",
      "INFO:rasa_nlu.evaluate:Precision: 0.9778755247681801\n",
      "INFO:rasa_nlu.evaluate:Accuracy:  0.9736346516007532\n",
      "INFO:rasa_nlu.evaluate:Classification report: \n",
      "                     precision    recall  f1-score   support\n",
      "\n",
      "                          0.00      0.00      0.00         0\n",
      "            afirmar       0.87      1.00      0.93        13\n",
      "                bff       1.00      1.00      1.00        11\n",
      "               book       1.00      1.00      1.00         5\n",
      "       chatbot_tais       1.00      1.00      1.00        10\n",
      "              color       1.00      1.00      1.00         6\n",
      "     como_contratar       1.00      1.00      1.00        19\n",
      "           creators       1.00      0.83      0.91         6\n",
      "       cumprimentar       1.00      0.91      0.95        22\n",
      "           despedir       1.00      1.00      1.00        16\n",
      "          diga_mais       1.00      1.00      1.00         9\n",
      "            elogios       1.00      1.00      1.00         4\n",
      "  empurrando_juntos       1.00      1.00      1.00         6\n",
      "erro_resposta_utter       1.00      1.00      1.00         6\n",
      "               food       1.00      1.00      1.00         8\n",
      "              genre       1.00      1.00      1.00         8\n",
      "              hobby       1.00      1.00      1.00         7\n",
      "           how_am_i       1.00      1.00      1.00         8\n",
      "             its_ok       1.00      0.90      0.95        10\n",
      "               joke       1.00      1.00      1.00         7\n",
      "          languages       0.93      0.93      0.93        14\n",
      "              laugh       1.00      1.00      1.00        13\n",
      "            license       1.00      0.91      0.95        11\n",
      "                 me       1.00      1.00      1.00         7\n",
      "          meu_signo       0.94      0.94      0.94        17\n",
      "              movie       1.00      1.00      1.00         4\n",
      "               name       1.00      1.00      1.00         4\n",
      "              negar       1.00      1.00      1.00        19\n",
      "    o_que_eh_lappis       0.77      1.00      0.87        10\n",
      "       out_of_scope       1.00      1.00      1.00         5\n",
      "   pessoa_mais_cool       1.00      1.00      1.00        19\n",
      "           playlist       1.00      1.00      1.00         8\n",
      "    promova_cultura       1.00      1.00      1.00         8\n",
      "     quais_projetos       1.00      1.00      1.00        20\n",
      "  quais_tecnologias       1.00      1.00      1.00        17\n",
      "  quem_eh_lappisudo       1.00      0.89      0.94         9\n",
      "       quem_eh_voce       0.90      0.90      0.90        21\n",
      "       relationship       1.00      1.00      1.00        10\n",
      "           religion       1.00      1.00      1.00        16\n",
      "                sad       1.00      1.00      1.00         7\n",
      "          salic_api       1.00      1.00      1.00        10\n",
      "           salic_ml       1.00      1.00      1.00        10\n",
      "               sign       0.67      0.67      0.67         3\n",
      "     software_livre       0.89      1.00      0.94         8\n",
      "               sons       1.00      1.00      1.00        11\n",
      "              sport       1.00      1.00      1.00         6\n",
      "          star_wars       1.00      1.00      1.00        10\n",
      "              story       1.00      1.00      1.00         6\n",
      "               team       1.00      1.00      1.00         7\n",
      "              towel       1.00      1.00      1.00         4\n",
      "           tudo_bem       0.82      0.90      0.86        10\n",
      "            weather       1.00      1.00      1.00         8\n",
      "     where_r_u_from       1.00      0.75      0.86         4\n",
      "        where_u_liv       1.00      1.00      1.00         8\n",
      "        zoacao_java       1.00      0.83      0.91         6\n",
      "\n",
      "        avg / total       0.98      0.97      0.97       531\n",
      "\n",
      "INFO:rasa_nlu.evaluate:There were some nlu intent classification errors. Use `--verbose` to show them in the log.\n",
      "INFO:rasa_nlu.evaluate:Model prediction errors saved to errors.json.\n",
      "INFO:rasa_nlu.evaluate:Confusion matrix, without normalization: \n",
      "[[ 0  0  0 ...  0  0  0]\n",
      " [ 0 13  0 ...  0  0  0]\n",
      " [ 0  0 11 ...  0  0  0]\n",
      " ...\n",
      " [ 0  0  0 ...  3  0  0]\n",
      " [ 0  0  0 ...  0  8  0]\n",
      " [ 0  0  0 ...  0  0  5]]\n"
     ]
    },
    {
     "data": {
      "image/png": "[encoded data removed]",
      "text/plain": [
       "<Figure size 432x288 with 2 Axes>"
      ]
     },
     "metadata": {
      "needs_background": "light"
     },
     "output_type": "display_data"
    },
    {
     "data": {
      "image/png": "[encoded data removed]",
      "text/plain": [
       "<Figure size 432x288 with 1 Axes>"
      ]
     },
     "metadata": {
      "needs_background": "light"
     },
     "output_type": "display_data"
    },
    {
     "name": "stderr",
     "output_type": "stream",
     "text": [
      "INFO:rasa_nlu.evaluate:Entity evaluation results:\n",
      "INFO:rasa_nlu.evaluate:Evaluation for entity extractor: ner_crf \n",
      "INFO:rasa_nlu.evaluate:F1-Score:  0.9907693995778069\n",
      "INFO:rasa_nlu.evaluate:Precision: 0.9915729577474618\n",
      "INFO:rasa_nlu.evaluate:Accuracy:  0.9909584086799277\n",
      "INFO:rasa_nlu.evaluate:Classification report: \n",
      "              precision    recall  f1-score   support\n",
      "\n",
      "         bff       1.00      1.00      1.00        17\n",
      "        book       1.00      1.00      1.00         5\n",
      "       color       1.00      1.00      1.00        13\n",
      "    creators       1.00      0.86      0.92         7\n",
      "        food       1.00      1.00      1.00        17\n",
      "       genre       0.83      1.00      0.91        15\n",
      "       hobby       1.00      1.00      1.00        11\n",
      "         how       1.00      1.00      1.00        24\n",
      "        joke       1.00      1.00      1.00         7\n",
      "   languages       1.00      0.93      0.96        14\n",
      "     license       1.00      0.86      0.92        14\n",
      "        live       1.00      1.00      1.00        13\n",
      "          me       1.00      0.86      0.92         7\n",
      "       movie       1.00      1.00      1.00         4\n",
      "        name       1.00      1.00      1.00         4\n",
      "   no_entity       0.99      1.00      0.99      1379\n",
      "          ok       0.93      0.93      0.93        15\n",
      "    playlist       1.00      1.00      1.00         7\n",
      "relationship       1.00      1.00      1.00         9\n",
      "    religion       1.00      1.00      1.00        16\n",
      "         sad       1.00      1.00      1.00         7\n",
      "        sign       0.50      0.67      0.57         3\n",
      "        sons       1.00      1.00      1.00        11\n",
      "       sport       1.00      1.00      1.00         6\n",
      "    starwars       1.00      1.00      1.00        13\n",
      "       story       1.00      1.00      1.00         6\n",
      "       towel       1.00      1.00      1.00         4\n",
      "     weather       1.00      1.00      1.00         8\n",
      "       where       1.00      0.33      0.50         3\n",
      "\n",
      " avg / total       0.99      0.99      0.99      1659\n",
      "\n"
     ]
    }
   ],
   "source": [
    "from rasa_nlu.evaluate import run_evaluation\n",
    "run_evaluation('../../bot/data/intents/', model_directory)"
   ]
  },
  {
   "cell_type": "markdown",
   "metadata": {},
   "source": [
    "### Lista de Problemas\n",
    "\n",
    "O arquivo `erros,json` mostra os erros encontrados após executar o comando `rasa_nlu.evaluate.run_evaluation`.\n",
    "\n",
    "Normalmente os erros mostrados são textos repetidos nos exemplos de diferrentes `intents`.\n",
    "\n",
    "Caso o arquivo não seja gerado significa que não foram encontrados erros."
   ]
  },
  {
   "cell_type": "code",
   "execution_count": 5,
   "metadata": {},
   "outputs": [
    {
     "name": "stdout",
     "output_type": "stream",
     "text": [
      "{\r\n",
      "    \"intent_errors\": [\r\n",
      "        {\r\n",
      "            \"text\": \"software livre\",\r\n",
      "            \"intent\": \"license\",\r\n",
      "            \"intent_prediction\": {\r\n",
      "                \"name\": \"software_livre\",\r\n",
      "                \"confidence\": 0.8758267164230347\r\n",
      "            }\r\n",
      "        },\r\n",
      "        {\r\n",
      "            \"text\": \"e o c#\",\r\n",
      "            \"intent\": \"languages\",\r\n",
      "            \"intent_prediction\": {\r\n",
      "                \"name\": \"\",\r\n",
      "                \"confidence\": 0.0\r\n",
      "            }\r\n",
      "        },\r\n",
      "        {\r\n",
      "            \"text\": \"Tudo bem?\",\r\n",
      "            \"intent\": \"its_ok\",\r\n",
      "            \"intent_prediction\": {\r\n",
      "                \"name\": \"afirmar\",\r\n",
      "                \"confidence\": 0.6227023005485535\r\n",
      "            }\r\n",
      "        },\r\n",
      "        {\r\n",
      "            \"text\": \"onde voce nasceu?\",\r\n",
      "            \"intent\": \"where_r_u_from\",\r\n",
      "            \"intent_prediction\": {\r\n",
      "                \"name\": \"quem_eh_voce\",\r\n",
      "                \"confidence\": 0.7670958042144775\r\n",
      "            }\r\n",
      "        },\r\n",
      "        {\r\n",
      "            \"text\": \"Quem te fez?\",\r\n",
      "            \"intent\": \"creators\",\r\n",
      "            \"intent_prediction\": {\r\n",
      "                \"name\": \"o_que_eh_lappis\",\r\n",
      "                \"confidence\": 0.8802075982093811\r\n",
      "            }\r\n",
      "        },\r\n",
      "        {\r\n",
      "            \"text\": \"Qual o seu signo?\",\r\n",
      "            \"intent\": \"sign\",\r\n",
      "            \"intent_prediction\": {\r\n",
      "                \"name\": \"meu_signo\",\r\n",
      "                \"confidence\": 0.7709224820137024\r\n",
      "            }\r\n",
      "        },\r\n",
      "        {\r\n",
      "            \"text\": \"chatbot\",\r\n",
      "            \"intent\": \"quem_eh_lappisudo\",\r\n",
      "            \"intent_prediction\": {\r\n",
      "                \"name\": \"quem_eh_voce\",\r\n",
      "                \"confidence\": 0.8417193293571472\r\n",
      "            }\r\n",
      "        },\r\n",
      "        {\r\n",
      "            \"text\": \"signo\",\r\n",
      "            \"intent\": \"meu_signo\",\r\n",
      "            \"intent_prediction\": {\r\n",
      "                \"name\": \"sign\",\r\n",
      "                \"confidence\": 0.7748193740844727\r\n",
      "            }\r\n",
      "        },\r\n",
      "        {\r\n",
      "            \"text\": \"java\",\r\n",
      "            \"intent\": \"zoacao_java\",\r\n",
      "            \"intent_prediction\": {\r\n",
      "                \"name\": \"languages\",\r\n",
      "                \"confidence\": 0.7685664892196655\r\n",
      "            }\r\n",
      "        },\r\n",
      "        {\r\n",
      "            \"text\": \"como vai\",\r\n",
      "            \"intent\": \"cumprimentar\",\r\n",
      "            \"intent_prediction\": {\r\n",
      "                \"name\": \"tudo_bem\",\r\n",
      "                \"confidence\": 0.7766595482826233\r\n",
      "            }\r\n",
      "        },\r\n",
      "        {\r\n",
      "            \"text\": \"tudo bom\",\r\n",
      "            \"intent\": \"cumprimentar\",\r\n",
      "            \"intent_prediction\": {\r\n",
      "                \"name\": \"tudo_bem\",\r\n",
      "                \"confidence\": 0.777603030204773\r\n",
      "            }\r\n",
      "        },\r\n",
      "        {\r\n",
      "            \"text\": \"Tudo bem\",\r\n",
      "            \"intent\": \"tudo_bem\",\r\n",
      "            \"intent_prediction\": {\r\n",
      "                \"name\": \"afirmar\",\r\n",
      "                \"confidence\": 0.6227023005485535\r\n",
      "            }\r\n",
      "        },\r\n",
      "        {\r\n",
      "            \"text\": \"Quem te criou?\",\r\n",
      "            \"intent\": \"quem_eh_voce\",\r\n",
      "            \"intent_prediction\": {\r\n",
      "                \"name\": \"o_que_eh_lappis\",\r\n",
      "                \"confidence\": 0.8640211820602417\r\n",
      "            }\r\n",
      "        },\r\n",
      "        {\r\n",
      "            \"text\": \"Quem te desenvolveu?\",\r\n",
      "            \"intent\": \"quem_eh_voce\",\r\n",
      "            \"intent_prediction\": {\r\n",
      "                \"name\": \"o_que_eh_lappis\",\r\n",
      "                \"confidence\": 0.8942159414291382\r\n",
      "            }\r\n",
      "        }\r\n",
      "    ]\r\n",
      "}"
     ]
    }
   ],
   "source": [
    "%cat errors.json"
   ]
  },
  {
   "cell_type": "markdown",
   "metadata": {
    "colab_type": "text",
    "id": "1xeXgpdwzOAl"
   },
   "source": [
    "### Avaliação do modelo de NLU treinado\n",
    "\n",
    "Caso queira testar mensagens específicas mande a mensagem na célula seguinte:"
   ]
  },
  {
   "cell_type": "code",
   "execution_count": 6,
   "metadata": {},
   "outputs": [
    {
     "name": "stdout",
     "output_type": "stream",
     "text": [
      "{\n",
      "  \"intent\": {\n",
      "    \"name\": \"quem_eh_voce\",\n",
      "    \"confidence\": 0.8361726403236389\n",
      "  },\n",
      "  \"entities\": [],\n",
      "  \"intent_ranking\": [\n",
      "    {\n",
      "      \"name\": \"quem_eh_voce\",\n",
      "      \"confidence\": 0.8361726403236389\n",
      "    },\n",
      "    {\n",
      "      \"name\": \"where_r_u_from\",\n",
      "      \"confidence\": 0.3619411289691925\n",
      "    },\n",
      "    {\n",
      "      \"name\": \"despedir\",\n",
      "      \"confidence\": 0.3474047780036926\n",
      "    },\n",
      "    {\n",
      "      \"name\": \"genre\",\n",
      "      \"confidence\": 0.2647324502468109\n",
      "    },\n",
      "    {\n",
      "      \"name\": \"sign\",\n",
      "      \"confidence\": 0.2186793088912964\n",
      "    },\n",
      "    {\n",
      "      \"name\": \"cumprimentar\",\n",
      "      \"confidence\": 0.20706906914710999\n",
      "    },\n",
      "    {\n",
      "      \"name\": \"meu_signo\",\n",
      "      \"confidence\": 0.19841191172599792\n",
      "    },\n",
      "    {\n",
      "      \"name\": \"story\",\n",
      "      \"confidence\": 0.18699833750724792\n",
      "    },\n",
      "    {\n",
      "      \"name\": \"laugh\",\n",
      "      \"confidence\": 0.1862882375717163\n",
      "    },\n",
      "    {\n",
      "      \"name\": \"erro_resposta_utter\",\n",
      "      \"confidence\": 0.15251879394054413\n",
      "    }\n",
      "  ],\n",
      "  \"text\": \"O que \\u00e9 um bot?\"\n",
      "}\n"
     ]
    }
   ],
   "source": [
    "pprint(interpreter.parse('O que é um bot?'))"
   ]
  },
  {
   "cell_type": "code",
   "execution_count": null,
   "metadata": {},
   "outputs": [],
   "source": []
  }
 ],
 "metadata": {
  "colab": {
   "collapsed_sections": [
    "y4miuS-TqYcn",
    "BBF6Nqi9scQE",
    "Fs3nOUzBsqrG",
    "5MnGuFRpzzBh"
   ],
   "default_view": {},
   "name": "Building a Simple Bot with Rasa Stack - Tutorial",
   "provenance": [
    {
     "file_id": "1GutDkDXmfU-nRzNH7Pxxx8YpdvLUw9LO",
     "timestamp": 1521183725373
    }
   ],
   "toc_visible": true,
   "version": "0.3.2",
   "views": {}
  },
  "kernelspec": {
   "display_name": "Python 3",
   "language": "python",
   "name": "python3"
  },
  "language_info": {
   "codemirror_mode": {
    "name": "ipython",
    "version": 3
   },
   "file_extension": ".py",
   "mimetype": "text/x-python",
   "name": "python",
   "nbconvert_exporter": "python",
   "pygments_lexer": "ipython3",
   "version": "3.6.8"
  }
 },
 "nbformat": 4,
 "nbformat_minor": 1
}
